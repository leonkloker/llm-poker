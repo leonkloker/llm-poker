{
 "cells": [
  {
   "cell_type": "code",
   "execution_count": 1,
   "metadata": {},
   "outputs": [],
   "source": [
    "def get_best_hand(cards):\n",
    "        # Convert cards to (rank, suit) tuples for easier processing\n",
    "        processed_cards = []\n",
    "        for card in cards:\n",
    "            rank, _, suit = card.partition(' of ')\n",
    "            # Convert face cards to numbers\n",
    "            if rank == 'Jack':\n",
    "                rank = 11\n",
    "            elif rank == 'Queen':\n",
    "                rank = 12\n",
    "            elif rank == 'King':\n",
    "                rank = 13\n",
    "            elif rank == 'Ace':\n",
    "                rank = 14\n",
    "            else:\n",
    "                rank = int(rank)\n",
    "            processed_cards.append((rank, suit))\n",
    "\n",
    "        # Sort cards by rank, highest first\n",
    "        processed_cards.sort(reverse=True, key=lambda x: x[0])\n",
    "\n",
    "        # Check for straight flush\n",
    "        for suit in ['Hearts', 'Diamonds', 'Clubs', 'Spades']:\n",
    "            suited_cards = [card[0] for card in processed_cards if card[1] == suit]\n",
    "            if len(suited_cards) >= 5:\n",
    "                suited_cards.sort(reverse=True)\n",
    "                for i in range(len(suited_cards) - 4):\n",
    "                    if suited_cards[i] - suited_cards[i+4] == 4:\n",
    "                        return ('straight_flush', suited_cards[i])\n",
    "\n",
    "        # Check for four of a kind\n",
    "        for rank in range(14, 1, -1):\n",
    "            if sum(1 for card in processed_cards if card[0] == rank) == 4:\n",
    "                return ('four_of_a_kind', rank)\n",
    "\n",
    "        # Check for full house\n",
    "        for three_rank in range(14, 1, -1):\n",
    "            if sum(1 for card in processed_cards if card[0] == three_rank) == 3:\n",
    "                for two_rank in range(14, 1, -1):\n",
    "                    if two_rank != three_rank and sum(1 for card in processed_cards if card[0] == two_rank) >= 2:\n",
    "                        return ('full_house', (three_rank, two_rank))\n",
    "\n",
    "        # Check for flush\n",
    "        for suit in ['Hearts', 'Diamonds', 'Clubs', 'Spades']:\n",
    "            suited_cards = [card[0] for card in processed_cards if card[1] == suit]\n",
    "            if len(suited_cards) >= 5:\n",
    "                suited_cards.sort(reverse=True)\n",
    "                return ('flush', suited_cards[:5])\n",
    "\n",
    "        # Check for straight\n",
    "        ranks = sorted(list(set(card[0] for card in processed_cards)), reverse=True)\n",
    "        for i in range(len(ranks) - 4):\n",
    "            if ranks[i] - ranks[i+4] == 4:\n",
    "                return ('straight', ranks[i])\n",
    "\n",
    "        # Check for three of a kind\n",
    "        for rank in range(14, 1, -1):\n",
    "            if sum(1 for card in processed_cards if card[0] == rank) == 3:\n",
    "                return ('three_of_a_kind', rank)\n",
    "\n",
    "        # Check for two pair\n",
    "        pairs = []\n",
    "        for rank in range(14, 1, -1):\n",
    "            if sum(1 for card in processed_cards if card[0] == rank) == 2:\n",
    "                pairs.append(rank)\n",
    "            if len(pairs) == 2:\n",
    "                return ('two_pair', tuple(pairs))\n",
    "\n",
    "        # Check for one pair\n",
    "        for rank in range(14, 1, -1):\n",
    "            if sum(1 for card in processed_cards if card[0] == rank) == 2:\n",
    "                return ('pair', rank)\n",
    "\n",
    "        # High card\n",
    "        return ('high_card', processed_cards[0][0])"
   ]
  },
  {
   "cell_type": "code",
   "execution_count": 3,
   "metadata": {},
   "outputs": [
    {
     "name": "stdout",
     "output_type": "stream",
     "text": [
      "('straight_flush', 14)\n",
      "('flush', [13, 12, 11, 10, 10])\n"
     ]
    }
   ],
   "source": [
    "hand1 = ['Ace of Hearts', 'King of Hearts', 'Queen of Hearts', 'Jack of Hearts', '10 of Hearts']\n",
    "hand2 = ['10 of Spades', 'King of Spades', 'Queen of Spades', 'Jack of Spades', '10 of Spades']\n",
    "\n",
    "print(get_best_hand(hand1))\n",
    "print(get_best_hand(hand2))"
   ]
  }
 ],
 "metadata": {
  "kernelspec": {
   "display_name": "llm-poker",
   "language": "python",
   "name": "python3"
  },
  "language_info": {
   "codemirror_mode": {
    "name": "ipython",
    "version": 3
   },
   "file_extension": ".py",
   "mimetype": "text/x-python",
   "name": "python",
   "nbconvert_exporter": "python",
   "pygments_lexer": "ipython3",
   "version": "3.9.20"
  }
 },
 "nbformat": 4,
 "nbformat_minor": 2
}
